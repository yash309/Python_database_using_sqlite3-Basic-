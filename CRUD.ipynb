{
  "nbformat": 4,
  "nbformat_minor": 0,
  "metadata": {
    "colab": {
      "name": "CRUD.ipynb",
      "provenance": [],
      "include_colab_link": true
    },
    "kernelspec": {
      "name": "python3",
      "display_name": "Python 3"
    }
  },
  "cells": [
    {
      "cell_type": "markdown",
      "metadata": {
        "id": "view-in-github",
        "colab_type": "text"
      },
      "source": [
        "<a href=\"https://colab.research.google.com/github/yash309/Python_database_using_sqlite3-Basic-/blob/master/CRUD.ipynb\" target=\"_parent\"><img src=\"https://colab.research.google.com/assets/colab-badge.svg\" alt=\"Open In Colab\"/></a>"
      ]
    },
    {
      "cell_type": "code",
      "metadata": {
        "id": "5TbLuvx-fC8j",
        "colab_type": "code",
        "colab": {}
      },
      "source": [
        ""
      ],
      "execution_count": 0,
      "outputs": []
    },
    {
      "cell_type": "code",
      "metadata": {
        "id": "fzTSZQfhfJhu",
        "colab_type": "code",
        "outputId": "14f3b053-cc6d-43c3-d04a-66251c10647d",
        "colab": {
          "base_uri": "https://localhost:8080/",
          "height": 121
        }
      },
      "source": [
        "from google.colab import drive\n",
        "drive.mount('/content/drive')"
      ],
      "execution_count": 0,
      "outputs": [
        {
          "output_type": "stream",
          "text": [
            "Go to this URL in a browser: https://accounts.google.com/o/oauth2/auth?client_id=947318989803-6bn6qk8qdgf4n4g3pfee6491hc0brc4i.apps.googleusercontent.com&redirect_uri=urn%3Aietf%3Awg%3Aoauth%3A2.0%3Aoob&scope=email%20https%3A%2F%2Fwww.googleapis.com%2Fauth%2Fdocs.test%20https%3A%2F%2Fwww.googleapis.com%2Fauth%2Fdrive%20https%3A%2F%2Fwww.googleapis.com%2Fauth%2Fdrive.photos.readonly%20https%3A%2F%2Fwww.googleapis.com%2Fauth%2Fpeopleapi.readonly&response_type=code\n",
            "\n",
            "Enter your authorization code:\n",
            "··········\n",
            "Mounted at /content/drive\n"
          ],
          "name": "stdout"
        }
      ]
    },
    {
      "cell_type": "code",
      "metadata": {
        "id": "aCgkn9DHfXlR",
        "colab_type": "code",
        "outputId": "c8f641fa-3cdc-4274-cf47-4156c1d5ca77",
        "colab": {
          "base_uri": "https://localhost:8080/",
          "height": 608
        }
      },
      "source": [
        " !pip install pysqlite3 \n",
        "  "
      ],
      "execution_count": 0,
      "outputs": [
        {
          "output_type": "stream",
          "text": [
            "Collecting pysqlite3\n",
            "\u001b[?25l  Downloading https://files.pythonhosted.org/packages/63/f9/d768ba1522852672b49f4ea3cf8c9f21743cc3a0c966fd4809add6133e67/pysqlite3-0.4.1.tar.gz (40kB)\n",
            "\u001b[K     |████████████████████████████████| 40kB 9.3MB/s \n",
            "\u001b[?25hBuilding wheels for collected packages: pysqlite3\n",
            "\u001b[33m  WARNING: Legacy build of wheel for 'pysqlite3' created no files.\n",
            "  Command arguments: /usr/bin/python3 -u -c 'import sys, setuptools, tokenize; sys.argv[0] = '\"'\"'/tmp/pip-install-5jind6dx/pysqlite3/setup.py'\"'\"'; __file__='\"'\"'/tmp/pip-install-5jind6dx/pysqlite3/setup.py'\"'\"';f=getattr(tokenize, '\"'\"'open'\"'\"', open)(__file__);code=f.read().replace('\"'\"'\\r\\n'\"'\"', '\"'\"'\\n'\"'\"');f.close();exec(compile(code, __file__, '\"'\"'exec'\"'\"'))' bdist_wheel -d /tmp/pip-wheel-xgu8murx --python-tag cp36\n",
            "  Command output:\n",
            "  running bdist_wheel\n",
            "  running build\n",
            "  running build_py\n",
            "  creating build\n",
            "  creating build/lib.linux-x86_64-3.6\n",
            "  creating build/lib.linux-x86_64-3.6/pysqlite3\n",
            "  copying pysqlite3/dbapi2.py -> build/lib.linux-x86_64-3.6/pysqlite3\n",
            "  copying pysqlite3/__init__.py -> build/lib.linux-x86_64-3.6/pysqlite3\n",
            "  running build_ext\n",
            "  Builds a C extension linking against libsqlite3 library\n",
            "  building 'pysqlite3._sqlite3' extension\n",
            "  creating build/temp.linux-x86_64-3.6\n",
            "  creating build/temp.linux-x86_64-3.6/src\n",
            "  x86_64-linux-gnu-gcc -pthread -DNDEBUG -g -fwrapv -O2 -Wall -g -fstack-protector-strong -Wformat -Werror=format-security -Wdate-time -D_FORTIFY_SOURCE=2 -fPIC -DMODULE_NAME=\"pysqlite3.dbapi2\" -I/usr/include -I/usr/include/python3.6m -c src/module.c -o build/temp.linux-x86_64-3.6/src/module.o\n",
            "  In file included from src/module.c:24:0:\n",
            "  src/connection.h:34:10: fatal error: sqlite3.h: No such file or directory\n",
            "   #include \"sqlite3.h\"\n",
            "            ^~~~~~~~~~~\n",
            "  compilation terminated.\n",
            "  error: command 'x86_64-linux-gnu-gcc' failed with exit status 1\n",
            "  ----------------------------------------\u001b[0m\n",
            "  Building wheel for pysqlite3 (setup.py) ... \u001b[?25l\u001b[?25hdone\n",
            "  Running setup.py clean for pysqlite3\n",
            "Failed to build pysqlite3\n",
            "Installing collected packages: pysqlite3\n",
            "  Running setup.py install for pysqlite3 ... \u001b[?25l\u001b[?25hdone\n",
            "Successfully installed pysqlite3\n"
          ],
          "name": "stdout"
        }
      ]
    },
    {
      "cell_type": "markdown",
      "metadata": {
        "id": "RJU0jMacl5cz",
        "colab_type": "text"
      },
      "source": [
        ""
      ]
    },
    {
      "cell_type": "code",
      "metadata": {
        "id": "n3dxVJu3fs1C",
        "colab_type": "code",
        "colab": {}
      },
      "source": [
        "import sqlite3"
      ],
      "execution_count": 0,
      "outputs": []
    },
    {
      "cell_type": "code",
      "metadata": {
        "id": "-nP--BnTi7yd",
        "colab_type": "code",
        "colab": {}
      },
      "source": [
        "def connect():\n",
        "\tconn=sqlite3.connect(\"1.db\")\n",
        "\tcur=conn.cursor()\n",
        "\tcur.execute(\"CREATE TABLE IF NOT EXISTS test(id INTEGER PRIMARY KEY ,name text, phone_number integer, no_of_days integer,total integer)\")\n",
        "\tconn.commit()\n",
        "\tconn.close()\n",
        "\n",
        "\n",
        "def insert(name,phone_number,no_of_days):\n",
        "\tconn=sqlite3.connect(\"1.db\")\n",
        "\tcur=conn.cursor()\n",
        "\tcur.execute(\"INSERT INTO test VALUES(NULL,?,?,?,?)\",(name,phone_number,no_of_days,calculator(no_of_days)))\n",
        "\tconn.commit()\n",
        "\tconn.close()\n",
        "\n",
        "\n",
        "\n",
        "def view():\n",
        "\tconn=sqlite3.connect(\"1.db\")\n",
        "\tcur=conn.cursor()\n",
        "\tcur.execute(\"SELECT * FROM test\")\n",
        "\trow=cur.fetchall()\n",
        "\tconn.close()\n",
        "\tprint(row)\n",
        "\n",
        "\n",
        "def search(a,b,c):\n",
        "\tconn=sqlite3.connect(\"1.db\")\n",
        "\tcur=conn.cursor()\n",
        "\tcur.execute(\"SELECT * FROM test WHERE  name =? OR phone_number=? OR no_of_days=?\",(a,b,c))\n",
        "\trow=cur.fetchall()\n",
        "\tconn.close()\n",
        "\tprint(row)\n",
        "\n",
        "\n",
        "def edit(a,b,c):\n",
        "\tconn=sqlite3.connect(\"1.db\")\n",
        "\tcur=conn.cursor()\n",
        "\tcur.execute(\"SELECT * FROM test WHERE  name =? OR phone_number=? OR no_of_days=?\",(a,b,c))\n",
        "\trow=cur.fetchall()\n",
        "\tindex=row[0][0]\n",
        "\n",
        "\tx=input(\"enter your edited name : \")\n",
        "\ty=input(\"enter your edited phone number : \")\n",
        "\tz=input(\"enter your edit no of days : \")\n",
        "\n",
        "\tcur.execute(\"UPDATE test SET name=? ,phone_number=?,no_of_days=?,total=? WHERE id=?\",(x,y,z,calculator(z),index))\n",
        "\tconn.commit()\n",
        "\tconn.close()\n",
        "\n",
        "def delete(name=\"\",phone_number=\"\",no_of_days=\"\"):\n",
        "\tconn=sqlite3.connect(\"1.db\")\n",
        "\tcur=conn.cursor()\n",
        "\tcur.execute(\"SELECT * FROM test WHERE  name =? OR phone_number=? OR no_of_days=?\",(a,b,c))\n",
        "\trow=cur.fetchall()\n",
        "\tindex=row[0][0]\n",
        "\tcur.execute(\"DELETE FROM test WHERE id=?\",(index,))\n",
        "\tconn.commit()\n",
        "\tconn.close()\n",
        "  \n",
        "def calculator(no_of_days):\n",
        "\ttotal=1000*no_of_days\n",
        "\treturn total\n"
      ],
      "execution_count": 0,
      "outputs": []
    },
    {
      "cell_type": "code",
      "metadata": {
        "id": "LToOZ4SYfyI3",
        "colab_type": "code",
        "outputId": "feb43bf9-8e47-4bd7-fca0-86297908e04b",
        "colab": {
          "base_uri": "https://localhost:8080/",
          "height": 151
        }
      },
      "source": [
        "connect()\n",
        "option=int(input('''what do you want to do\n",
        "1) insert entity\n",
        "2) view all\n",
        "3) edit\n",
        "4) update \n",
        "5) delete\n",
        "6) search  '''))\n",
        "\n",
        "if option==1:\n",
        "\ta=str(input(\"enter your name : \"))\n",
        "\tb=int(input(\"enter your number : \"))\n",
        "\tc=int(input(\"enter no of days : \"))\n",
        "\tinsert(a,b,c)\n",
        "\n",
        "elif option==2:\n",
        "\tview()\n",
        "\n",
        "elif option==6:\n",
        "\ta=input(\"enter your name : \")\n",
        "\tb=input(\"enter your number : \")\n",
        "\tc=input(\"enter no of days : \")\n",
        "\tsearch(a,b,c)\n",
        "\n",
        "\n",
        "elif option==3:\n",
        "\ta=input(\"enter your name : \")\n",
        "\tb=input(\"enter your number : \")\n",
        "\tc=input(\"enter no of days : \")\n",
        "\tedit(a,b,c)\n",
        "\n",
        "\n",
        "elif option==5:\n",
        "\ta=input(\"enter your name : \")\n",
        "\tb=input(\"enter your number : \")\n",
        "\tc=input(\"enter no of days : \")\n",
        "\tdelete(a,b,c)"
      ],
      "execution_count": 0,
      "outputs": [
        {
          "output_type": "stream",
          "text": [
            "what do you want to do\n",
            "1) insert entity\n",
            "2) view all\n",
            "3) edit\n",
            "4) update \n",
            "5) delete\n",
            "6) search  2\n",
            "[]\n"
          ],
          "name": "stdout"
        }
      ]
    }
  ]
}